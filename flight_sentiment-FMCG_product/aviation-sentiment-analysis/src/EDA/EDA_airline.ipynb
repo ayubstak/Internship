{
  "nbformat": 4,
  "nbformat_minor": 0,
  "metadata": {
    "colab": {
      "provenance": []
    },
    "kernelspec": {
      "name": "python3",
      "display_name": "Python 3"
    },
    "language_info": {
      "name": "python"
    }
  },
  "cells": [
    {
      "cell_type": "code",
      "execution_count": null,
      "metadata": {
        "id": "GDvMzpE7VB9w"
      },
      "outputs": [],
      "source": [
        "import pandas as pd\n",
        "import matplotlib.pyplot as plt\n",
        "import seaborn as sns"
      ]
    },
    {
      "cell_type": "code",
      "source": [
        "# Load the tweets dataset into a pandas DataFrame\n",
        "df = pd.read_csv(\"tweets_citilink.csv\")"
      ],
      "metadata": {
        "id": "or5Fhid4VMgE"
      },
      "execution_count": null,
      "outputs": []
    },
    {
      "cell_type": "code",
      "source": [
        "# Display the first few rows of the DataFrame\n",
        "print(df.head())"
      ],
      "metadata": {
        "colab": {
          "base_uri": "https://localhost:8080/"
        },
        "id": "B0SMGTMSV-vm",
        "outputId": "cef9406a-c42c-41ce-8179-f0e4ee45c049"
      },
      "execution_count": null,
      "outputs": [
        {
          "output_type": "stream",
          "name": "stdout",
          "text": [
            "         userId         username                       date  \\\n",
            "0  1.913150e+09  RKevin_Ramdhani  2023-06-26 23:48:12+00:00   \n",
            "1  5.945261e+08    richartavicho  2023-06-26 22:10:23+00:00   \n",
            "2  1.330470e+18          fwhelve  2023-06-26 17:40:36+00:00   \n",
            "3  1.330470e+18          fwhelve  2023-06-26 17:36:45+00:00   \n",
            "4  3.435242e+09     ArwahMiliter  2023-06-26 16:29:53+00:00   \n",
            "\n",
            "                                             content       tweetId  \\\n",
            "0  Trip Jakarta - Kuala Lumpur bersama Citilink d...  1.673480e+18   \n",
            "1                     @becak_e @Citilink ah gak juga  1.673450e+18   \n",
            "2  @yourrrrmineeeee Citilink skrg lg 1,9 ke bali🙂...  1.673390e+18   \n",
            "3  @yourrrrmineeeee IYAA! aku biasa 1jt udh dpt c...  1.673380e+18   \n",
            "4  @Hilmi28 Jaman Bandara Husein masih ramai, rut...  1.673370e+18   \n",
            "\n",
            "   replyCount  retweetCount  likeCount    inReplyToUser  \\\n",
            "0           0             0          1              NaN   \n",
            "1           0             0          0          becak_e   \n",
            "2           1             0          0  yourrrrmineeeee   \n",
            "3           1             0          0  yourrrrmineeeee   \n",
            "4           0             0          0          Hilmi28   \n",
            "\n",
            "            mentionedUsers hashtags  \n",
            "0                      NaN      NaN  \n",
            "1  ['becak_e', 'Citilink']      NaN  \n",
            "2      ['yourrrrmineeeee']      NaN  \n",
            "3      ['yourrrrmineeeee']      NaN  \n",
            "4              ['Hilmi28']      NaN  \n"
          ]
        }
      ]
    },
    {
      "cell_type": "code",
      "source": [
        "# Get basic information about the dataset\n",
        "print(df.info())"
      ],
      "metadata": {
        "id": "-CQ23iYEWC0k",
        "colab": {
          "base_uri": "https://localhost:8080/"
        },
        "outputId": "aae075d7-081a-4ee4-b5b1-c96b73237502"
      },
      "execution_count": null,
      "outputs": [
        {
          "output_type": "stream",
          "name": "stdout",
          "text": [
            "<class 'pandas.core.frame.DataFrame'>\n",
            "RangeIndex: 2297 entries, 0 to 2296\n",
            "Data columns (total 11 columns):\n",
            " #   Column          Non-Null Count  Dtype  \n",
            "---  ------          --------------  -----  \n",
            " 0   userId          2297 non-null   float64\n",
            " 1   username        2297 non-null   object \n",
            " 2   date            2297 non-null   object \n",
            " 3   content         2297 non-null   object \n",
            " 4   tweetId         2297 non-null   float64\n",
            " 5   replyCount      2297 non-null   int64  \n",
            " 6   retweetCount    2297 non-null   int64  \n",
            " 7   likeCount       2297 non-null   int64  \n",
            " 8   inReplyToUser   1082 non-null   object \n",
            " 9   mentionedUsers  1443 non-null   object \n",
            " 10  hashtags        117 non-null    object \n",
            "dtypes: float64(2), int64(3), object(6)\n",
            "memory usage: 197.5+ KB\n",
            "None\n"
          ]
        }
      ]
    },
    {
      "cell_type": "code",
      "source": [
        "# Descriptive statistics of numerical columns\n",
        "numerical_columns = df.select_dtypes(include='number').drop(columns=['userId', 'tweetId'])\n",
        "print(numerical_columns.describe())"
      ],
      "metadata": {
        "colab": {
          "base_uri": "https://localhost:8080/"
        },
        "id": "cRBs3IIgsh9y",
        "outputId": "445b57a6-5334-4445-df1b-e3619834696e"
      },
      "execution_count": null,
      "outputs": [
        {
          "output_type": "stream",
          "name": "stdout",
          "text": [
            "        replyCount  retweetCount    likeCount\n",
            "count  2297.000000   2297.000000  2297.000000\n",
            "mean      0.685242      0.456683     2.103178\n",
            "std       4.218831      8.380279    28.386277\n",
            "min       0.000000      0.000000     0.000000\n",
            "25%       0.000000      0.000000     0.000000\n",
            "50%       0.000000      0.000000     0.000000\n",
            "75%       1.000000      0.000000     0.000000\n",
            "max     165.000000    319.000000  1066.000000\n"
          ]
        }
      ]
    },
    {
      "cell_type": "code",
      "source": [
        "#explore username\n",
        "top_usernames = df['username'].value_counts().head(10)\n",
        "print(top_usernames)"
      ],
      "metadata": {
        "colab": {
          "base_uri": "https://localhost:8080/"
        },
        "id": "IZfKf8GRz003",
        "outputId": "bddb456b-3cbb-451a-c36c-5fb2c8b41a40"
      },
      "execution_count": null,
      "outputs": [
        {
          "output_type": "stream",
          "name": "stdout",
          "text": [
            "dishub_bwi        31\n",
            "contactap2        28\n",
            "raja_trip         20\n",
            "xranixm           11\n",
            "Febyelsiana       11\n",
            "doditred          10\n",
            "detikTravel        9\n",
            "ArwahMiliter       9\n",
            "Alfianwisnu087     9\n",
            "eddupedia          8\n",
            "Name: username, dtype: int64\n"
          ]
        }
      ]
    },
    {
      "cell_type": "code",
      "source": [
        "# Visualize the correlation between retweet count and like count\n",
        "plt.figure(figsize=(8, 6))\n",
        "sns.scatterplot(data=df, x='retweetCount', y='likeCount')\n",
        "plt.title('Correlation between Retweet Count and Like Count')\n",
        "plt.xlabel('Retweet Count')\n",
        "plt.ylabel('Like Count')\n",
        "plt.show()"
      ],
      "metadata": {
        "colab": {
          "base_uri": "https://localhost:8080/",
          "height": 564
        },
        "id": "npLe5euqsvUT",
        "outputId": "51b873e4-993b-4560-8ad7-7eb189a04354"
      },
      "execution_count": null,
      "outputs": [
        {
          "output_type": "display_data",
          "data": {
            "text/plain": [
              "<Figure size 800x600 with 1 Axes>"
            ],
            "image/png": "[encoded data removed]"
          },
          "metadata": {}
        }
      ]
    },
    {
      "cell_type": "code",
      "source": [
        "# Generate a histogram of tweet counts by month\n",
        "plt.figure(figsize=(12, 6))\n",
        "df['date'] = pd.to_datetime(df['date'])  # Convert 'date' column to datetime\n",
        "df['month'] = df['date'].dt.month  # Extract month from the 'date' column\n",
        "df['month'].value_counts().sort_index().plot(kind='bar')\n",
        "plt.title('Tweet Counts by Month')\n",
        "plt.xlabel('Month')\n",
        "plt.ylabel('Tweet Count')\n",
        "plt.xticks(rotation=0)\n",
        "plt.show()"
      ],
      "metadata": {
        "colab": {
          "base_uri": "https://localhost:8080/",
          "height": 564
        },
        "id": "2OTexpDOugra",
        "outputId": "c3ca77c2-81f0-4aef-8588-e04318ada977"
      },
      "execution_count": null,
      "outputs": [
        {
          "output_type": "display_data",
          "data": {
            "text/plain": [
              "<Figure size 1200x600 with 1 Axes>"
            ],
            "image/png": "[encoded data removed]"
          },
          "metadata": {}
        }
      ]
    },
    {
      "cell_type": "code",
      "source": [
        "# Explore inReplyToUser\n",
        "top_in_reply_to_users = df['inReplyToUser'].value_counts().head(10)\n",
        "print(top_in_reply_to_users)"
      ],
      "metadata": {
        "colab": {
          "base_uri": "https://localhost:8080/"
        },
        "id": "NnJBpg7T1qsC",
        "outputId": "37c1e134-d0a9-41aa-dd48-53e730ff3e8e"
      },
      "execution_count": null,
      "outputs": [
        {
          "output_type": "stream",
          "name": "stdout",
          "text": [
            "Citilink           71\n",
            "tanyakanrl         56\n",
            "indoflyer          28\n",
            "biasalahanakmud    20\n",
            "kegblgnunfaedh     13\n",
            "hrdbacot           13\n",
            "dhingdhongg        12\n",
            "discountfess       11\n",
            "Alfianwisnu087     10\n",
            "convomf            10\n",
            "Name: inReplyToUser, dtype: int64\n"
          ]
        }
      ]
    },
    {
      "cell_type": "code",
      "source": [
        "# Explore mentionedUsers\n",
        "mentionedUsers = df['mentionedUsers'].str.lower().str.split(',')\n",
        "mentionedUsers = mentionedUsers.explode().str.strip()\n",
        "mentionedUsers = mentionedUsers.str.replace(r'\\[|\\]', '')  # Remove square brackets\n",
        "top_mentionedUsers = mentionedUsers.value_counts().head(10)\n",
        "print(top_mentionedUsers)"
      ],
      "metadata": {
        "colab": {
          "base_uri": "https://localhost:8080/"
        },
        "id": "aSiT_bo713jc",
        "outputId": "a36414c0-b0ea-4eb2-f83b-e25ec1bf675b"
      },
      "execution_count": null,
      "outputs": [
        {
          "output_type": "stream",
          "name": "stdout",
          "text": [
            "'citilink'           709\n",
            "'tanyakanrl'          98\n",
            "'indonesiagaruda'     53\n",
            "'indoflyer'           46\n",
            "'dhingdhongg'         25\n",
            "'kegblgnunfaedh'      24\n",
            "'biasalahanakmud'     22\n",
            "'kemenhub151'         21\n",
            "'batikairina'         21\n",
            "'discountfess'        19\n",
            "Name: mentionedUsers, dtype: int64\n"
          ]
        },
        {
          "output_type": "stream",
          "name": "stderr",
          "text": [
            "<ipython-input-105-70b53fb11118>:4: FutureWarning: The default value of regex will change from True to False in a future version.\n",
            "  mentionedUsers = mentionedUsers.str.replace(r'\\[|\\]', '')  # Remove square brackets\n"
          ]
        }
      ]
    },
    {
      "cell_type": "code",
      "source": [
        "# Explore hashtags\n",
        "hashtags = df['hashtags'].str.lower().str.split(',')\n",
        "hashtags = hashtags.explode().str.strip()\n",
        "hashtags = hashtags.str.replace(r'\\[|\\]', '')  # Remove square brackets\n",
        "top_hashtags = hashtags.value_counts().head(10)\n",
        "print(top_hashtags)"
      ],
      "metadata": {
        "colab": {
          "base_uri": "https://localhost:8080/"
        },
        "id": "w0hqFpntvHJS",
        "outputId": "b8a79b01-3720-4c92-9397-0e061abb0c4a"
      },
      "execution_count": null,
      "outputs": [
        {
          "output_type": "stream",
          "name": "stdout",
          "text": [
            "'citilink'           31\n",
            "'zonauang'           19\n",
            "'zonajajan'          17\n",
            "'tiketpesawat'       15\n",
            "'flightaware'        10\n",
            "'garudaindonesia'     8\n",
            "'jakarta'             6\n",
            "'update'              5\n",
            "'batam'               5\n",
            "'aviationlovers'      4\n",
            "Name: hashtags, dtype: int64\n"
          ]
        },
        {
          "output_type": "stream",
          "name": "stderr",
          "text": [
            "<ipython-input-106-27c308d0284c>:4: FutureWarning: The default value of regex will change from True to False in a future version.\n",
            "  hashtags = hashtags.str.replace(r'\\[|\\]', '')  # Remove square brackets\n"
          ]
        }
      ]
    },
    {
      "cell_type": "code",
      "source": [],
      "metadata": {
        "id": "3lekCmGj8Jv8"
      },
      "execution_count": null,
      "outputs": []
    }
  ]
}