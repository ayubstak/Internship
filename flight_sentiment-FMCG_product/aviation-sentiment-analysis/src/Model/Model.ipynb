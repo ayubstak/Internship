{
  "nbformat": 4,
  "nbformat_minor": 0,
  "metadata": {
    "colab": {
      "provenance": []
    },
    "kernelspec": {
      "name": "python3",
      "display_name": "Python 3"
    },
    "language_info": {
      "name": "python"
    }
  },
  "cells": [
    {
      "cell_type": "code",
      "source": [
        "!pip install nltk"
      ],
      "metadata": {
        "colab": {
          "base_uri": "https://localhost:8080/"
        },
        "id": "rgNZi8gANick",
        "outputId": "1e6c6a33-d1c1-437f-8c6a-8d7c3b52a3e5"
      },
      "execution_count": null,
      "outputs": [
        {
          "output_type": "stream",
          "name": "stdout",
          "text": [
            "Requirement already satisfied: nltk in /usr/local/lib/python3.10/dist-packages (3.8.1)\n",
            "Requirement already satisfied: click in /usr/local/lib/python3.10/dist-packages (from nltk) (8.1.4)\n",
            "Requirement already satisfied: joblib in /usr/local/lib/python3.10/dist-packages (from nltk) (1.3.1)\n",
            "Requirement already satisfied: regex>=2021.8.3 in /usr/local/lib/python3.10/dist-packages (from nltk) (2022.10.31)\n",
            "Requirement already satisfied: tqdm in /usr/local/lib/python3.10/dist-packages (from nltk) (4.65.0)\n"
          ]
        }
      ]
    },
    {
      "cell_type": "code",
      "source": [
        "!pip install xgboost"
      ],
      "metadata": {
        "colab": {
          "base_uri": "https://localhost:8080/"
        },
        "id": "_vFs7NrXekQ9",
        "outputId": "a70b9272-82fd-487f-cf98-7379f79e3a5d"
      },
      "execution_count": null,
      "outputs": [
        {
          "output_type": "stream",
          "name": "stdout",
          "text": [
            "Requirement already satisfied: xgboost in /usr/local/lib/python3.10/dist-packages (1.7.6)\n",
            "Requirement already satisfied: numpy in /usr/local/lib/python3.10/dist-packages (from xgboost) (1.22.4)\n",
            "Requirement already satisfied: scipy in /usr/local/lib/python3.10/dist-packages (from xgboost) (1.10.1)\n"
          ]
        }
      ]
    },
    {
      "cell_type": "code",
      "source": [
        "!pip install scikit-learn"
      ],
      "metadata": {
        "colab": {
          "base_uri": "https://localhost:8080/"
        },
        "id": "LmC2T-oeWvBv",
        "outputId": "634e43ed-c501-4a74-954e-3e7a3357ae4a"
      },
      "execution_count": null,
      "outputs": [
        {
          "output_type": "stream",
          "name": "stdout",
          "text": [
            "Requirement already satisfied: scikit-learn in /usr/local/lib/python3.10/dist-packages (1.2.2)\n",
            "Requirement already satisfied: numpy>=1.17.3 in /usr/local/lib/python3.10/dist-packages (from scikit-learn) (1.22.4)\n",
            "Requirement already satisfied: scipy>=1.3.2 in /usr/local/lib/python3.10/dist-packages (from scikit-learn) (1.10.1)\n",
            "Requirement already satisfied: joblib>=1.1.1 in /usr/local/lib/python3.10/dist-packages (from scikit-learn) (1.3.1)\n",
            "Requirement already satisfied: threadpoolctl>=2.0.0 in /usr/local/lib/python3.10/dist-packages (from scikit-learn) (3.1.0)\n"
          ]
        }
      ]
    },
    {
      "cell_type": "code",
      "source": [
        "!pip install keras"
      ],
      "metadata": {
        "colab": {
          "base_uri": "https://localhost:8080/"
        },
        "id": "U0MjCwurGn4K",
        "outputId": "f62eae8b-a42e-4afd-d27d-b141ec9d5bbf"
      },
      "execution_count": null,
      "outputs": [
        {
          "output_type": "stream",
          "name": "stdout",
          "text": [
            "Requirement already satisfied: keras in /usr/local/lib/python3.10/dist-packages (2.12.0)\n"
          ]
        }
      ]
    },
    {
      "cell_type": "code",
      "source": [
        "import nltk\n",
        "nltk.download('stopwords')\n",
        "nltk.download('punkt')"
      ],
      "metadata": {
        "colab": {
          "base_uri": "https://localhost:8080/"
        },
        "id": "QTVYBp5qONWb",
        "outputId": "6e0cf1b6-0e48-4ad0-d10e-bb99d442f7f9"
      },
      "execution_count": null,
      "outputs": [
        {
          "output_type": "stream",
          "name": "stderr",
          "text": [
            "[nltk_data] Downloading package stopwords to /root/nltk_data...\n",
            "[nltk_data]   Unzipping corpora/stopwords.zip.\n",
            "[nltk_data] Downloading package punkt to /root/nltk_data...\n",
            "[nltk_data]   Unzipping tokenizers/punkt.zip.\n"
          ]
        },
        {
          "output_type": "execute_result",
          "data": {
            "text/plain": [
              "True"
            ]
          },
          "metadata": {},
          "execution_count": 5
        }
      ]
    },
    {
      "cell_type": "code",
      "source": [
        "import pandas as pd\n",
        "import matplotlib.pyplot as plt\n",
        "import numpy as np\n",
        "import re\n",
        "import random\n",
        "from random import shuffle\n",
        "from nltk.corpus import stopwords\n",
        "from nltk.stem import SnowballStemmer\n",
        "from nltk.tokenize import word_tokenize\n",
        "from sklearn.model_selection import train_test_split\n",
        "from sklearn.feature_extraction.text import TfidfVectorizer\n",
        "from sklearn.naive_bayes import MultinomialNB\n",
        "from sklearn.metrics import accuracy_score\n",
        "from sklearn.ensemble import GradientBoostingClassifier\n",
        "from xgboost import XGBClassifier\n",
        "import xgboost as xgb\n",
        "from sklearn.preprocessing import OneHotEncoder\n",
        "import tensorflow as tf\n",
        "import tensorflow.keras as keras\n",
        "from keras.callbacks import EarlyStopping\n",
        "from keras.models import Sequential\n",
        "from keras.layers import Dense, Dropout, Flatten, Embedding, GlobalAveragePooling2D, Reshape, LSTM\n",
        "from tensorflow.keras.preprocessing.sequence import pad_sequences\n",
        "from scipy.sparse import csr_matrix\n",
        "from sklearn.ensemble import RandomForestClassifier\n",
        "from sklearn.metrics import confusion_matrix, accuracy_score"
      ],
      "metadata": {
        "id": "HS-tcfkDJpyc"
      },
      "execution_count": null,
      "outputs": []
    },
    {
      "cell_type": "code",
      "execution_count": null,
      "metadata": {
        "colab": {
          "base_uri": "https://localhost:8080/",
          "height": 231
        },
        "id": "ZbNlTU0kIiac",
        "outputId": "bcf2db2e-d5b4-4e73-dcda-e3ed01741cd8"
      },
      "outputs": [
        {
          "output_type": "stream",
          "name": "stdout",
          "text": [
            "Dataframe:\n"
          ]
        },
        {
          "output_type": "execute_result",
          "data": {
            "text/plain": [
              "        userId      username                       date  \\\n",
              "0  308877642.0  bajangIdaman  2023-06-26 23:29:35+00:00   \n",
              "\n",
              "                                             content       tweetId  \\\n",
              "0   superairjet min ini iu717 mau berangkat jam b...  1.670000e+18   \n",
              "\n",
              "   replyCount  retweetCount  likeCount inReplyToUser   mentionedUsers  \\\n",
              "0           0             0          0           NaN  ['SuperAirJet']   \n",
              "\n",
              "  hashtags Sentiment  Confidence  \n",
              "0      NaN   neutral    0.968258  "
            ],
            "text/html": [
              "\n",
              "\n",
              "  <div id=\"df-7cc06e03-1a5d-4871-af13-d41c838da8af\">\n",
              "    <div class=\"colab-df-container\">\n",
              "      <div>\n",
              "<style scoped>\n",
              "    .dataframe tbody tr th:only-of-type {\n",
              "        vertical-align: middle;\n",
              "    }\n",
              "\n",
              "    .dataframe tbody tr th {\n",
              "        vertical-align: top;\n",
              "    }\n",
              "\n",
              "    .dataframe thead th {\n",
              "        text-align: right;\n",
              "    }\n",
              "</style>\n",
              "<table border=\"1\" class=\"dataframe\">\n",
              "  <thead>\n",
              "    <tr style=\"text-align: right;\">\n",
              "      <th></th>\n",
              "      <th>userId</th>\n",
              "      <th>username</th>\n",
              "      <th>date</th>\n",
              "      <th>content</th>\n",
              "      <th>tweetId</th>\n",
              "      <th>replyCount</th>\n",
              "      <th>retweetCount</th>\n",
              "      <th>likeCount</th>\n",
              "      <th>inReplyToUser</th>\n",
              "      <th>mentionedUsers</th>\n",
              "      <th>hashtags</th>\n",
              "      <th>Sentiment</th>\n",
              "      <th>Confidence</th>\n",
              "    </tr>\n",
              "  </thead>\n",
              "  <tbody>\n",
              "    <tr>\n",
              "      <th>0</th>\n",
              "      <td>308877642.0</td>\n",
              "      <td>bajangIdaman</td>\n",
              "      <td>2023-06-26 23:29:35+00:00</td>\n",
              "      <td>superairjet min ini iu717 mau berangkat jam b...</td>\n",
              "      <td>1.670000e+18</td>\n",
              "      <td>0</td>\n",
              "      <td>0</td>\n",
              "      <td>0</td>\n",
              "      <td>NaN</td>\n",
              "      <td>['SuperAirJet']</td>\n",
              "      <td>NaN</td>\n",
              "      <td>neutral</td>\n",
              "      <td>0.968258</td>\n",
              "    </tr>\n",
              "  </tbody>\n",
              "</table>\n",
              "</div>\n",
              "      <button class=\"colab-df-convert\" onclick=\"convertToInteractive('df-7cc06e03-1a5d-4871-af13-d41c838da8af')\"\n",
              "              title=\"Convert this dataframe to an interactive table.\"\n",
              "              style=\"display:none;\">\n",
              "\n",
              "  <svg xmlns=\"http://www.w3.org/2000/svg\" height=\"24px\"viewBox=\"0 0 24 24\"\n",
              "       width=\"24px\">\n",
              "    <path d=\"M0 0h24v24H0V0z\" fill=\"none\"/>\n",
              "    <path d=\"M18.56 5.44l.94 2.06.94-2.06 2.06-.94-2.06-.94-.94-2.06-.94 2.06-2.06.94zm-11 1L8.5 8.5l.94-2.06 2.06-.94-2.06-.94L8.5 2.5l-.94 2.06-2.06.94zm10 10l.94 2.06.94-2.06 2.06-.94-2.06-.94-.94-2.06-.94 2.06-2.06.94z\"/><path d=\"M17.41 7.96l-1.37-1.37c-.4-.4-.92-.59-1.43-.59-.52 0-1.04.2-1.43.59L10.3 9.45l-7.72 7.72c-.78.78-.78 2.05 0 2.83L4 21.41c.39.39.9.59 1.41.59.51 0 1.02-.2 1.41-.59l7.78-7.78 2.81-2.81c.8-.78.8-2.07 0-2.86zM5.41 20L4 18.59l7.72-7.72 1.47 1.35L5.41 20z\"/>\n",
              "  </svg>\n",
              "      </button>\n",
              "\n",
              "\n",
              "\n",
              "    <div id=\"df-da15971f-6432-481f-8945-d096929aad34\">\n",
              "      <button class=\"colab-df-quickchart\" onclick=\"quickchart('df-da15971f-6432-481f-8945-d096929aad34')\"\n",
              "              title=\"Suggest charts.\"\n",
              "              style=\"display:none;\">\n",
              "\n",
              "<svg xmlns=\"http://www.w3.org/2000/svg\" height=\"24px\"viewBox=\"0 0 24 24\"\n",
              "     width=\"24px\">\n",
              "    <g>\n",
              "        <path d=\"M19 3H5c-1.1 0-2 .9-2 2v14c0 1.1.9 2 2 2h14c1.1 0 2-.9 2-2V5c0-1.1-.9-2-2-2zM9 17H7v-7h2v7zm4 0h-2V7h2v10zm4 0h-2v-4h2v4z\"/>\n",
              "    </g>\n",
              "</svg>\n",
              "      </button>\n",
              "    </div>\n",
              "\n",
              "<style>\n",
              "  .colab-df-quickchart {\n",
              "    background-color: #E8F0FE;\n",
              "    border: none;\n",
              "    border-radius: 50%;\n",
              "    cursor: pointer;\n",
              "    display: none;\n",
              "    fill: #1967D2;\n",
              "    height: 32px;\n",
              "    padding: 0 0 0 0;\n",
              "    width: 32px;\n",
              "  }\n",
              "\n",
              "  .colab-df-quickchart:hover {\n",
              "    background-color: #E2EBFA;\n",
              "    box-shadow: 0px 1px 2px rgba(60, 64, 67, 0.3), 0px 1px 3px 1px rgba(60, 64, 67, 0.15);\n",
              "    fill: #174EA6;\n",
              "  }\n",
              "\n",
              "  [theme=dark] .colab-df-quickchart {\n",
              "    background-color: #3B4455;\n",
              "    fill: #D2E3FC;\n",
              "  }\n",
              "\n",
              "  [theme=dark] .colab-df-quickchart:hover {\n",
              "    background-color: #434B5C;\n",
              "    box-shadow: 0px 1px 3px 1px rgba(0, 0, 0, 0.15);\n",
              "    filter: drop-shadow(0px 1px 2px rgba(0, 0, 0, 0.3));\n",
              "    fill: #FFFFFF;\n",
              "  }\n",
              "</style>\n",
              "\n",
              "    <script>\n",
              "      async function quickchart(key) {\n",
              "        const containerElement = document.querySelector('#' + key);\n",
              "        const charts = await google.colab.kernel.invokeFunction(\n",
              "            'suggestCharts', [key], {});\n",
              "      }\n",
              "    </script>\n",
              "\n",
              "      <script>\n",
              "\n",
              "function displayQuickchartButton(domScope) {\n",
              "  let quickchartButtonEl =\n",
              "    domScope.querySelector('#df-da15971f-6432-481f-8945-d096929aad34 button.colab-df-quickchart');\n",
              "  quickchartButtonEl.style.display =\n",
              "    google.colab.kernel.accessAllowed ? 'block' : 'none';\n",
              "}\n",
              "\n",
              "        displayQuickchartButton(document);\n",
              "      </script>\n",
              "      <style>\n",
              "    .colab-df-container {\n",
              "      display:flex;\n",
              "      flex-wrap:wrap;\n",
              "      gap: 12px;\n",
              "    }\n",
              "\n",
              "    .colab-df-convert {\n",
              "      background-color: #E8F0FE;\n",
              "      border: none;\n",
              "      border-radius: 50%;\n",
              "      cursor: pointer;\n",
              "      display: none;\n",
              "      fill: #1967D2;\n",
              "      height: 32px;\n",
              "      padding: 0 0 0 0;\n",
              "      width: 32px;\n",
              "    }\n",
              "\n",
              "    .colab-df-convert:hover {\n",
              "      background-color: #E2EBFA;\n",
              "      box-shadow: 0px 1px 2px rgba(60, 64, 67, 0.3), 0px 1px 3px 1px rgba(60, 64, 67, 0.15);\n",
              "      fill: #174EA6;\n",
              "    }\n",
              "\n",
              "    [theme=dark] .colab-df-convert {\n",
              "      background-color: #3B4455;\n",
              "      fill: #D2E3FC;\n",
              "    }\n",
              "\n",
              "    [theme=dark] .colab-df-convert:hover {\n",
              "      background-color: #434B5C;\n",
              "      box-shadow: 0px 1px 3px 1px rgba(0, 0, 0, 0.15);\n",
              "      filter: drop-shadow(0px 1px 2px rgba(0, 0, 0, 0.3));\n",
              "      fill: #FFFFFF;\n",
              "    }\n",
              "  </style>\n",
              "\n",
              "      <script>\n",
              "        const buttonEl =\n",
              "          document.querySelector('#df-7cc06e03-1a5d-4871-af13-d41c838da8af button.colab-df-convert');\n",
              "        buttonEl.style.display =\n",
              "          google.colab.kernel.accessAllowed ? 'block' : 'none';\n",
              "\n",
              "        async function convertToInteractive(key) {\n",
              "          const element = document.querySelector('#df-7cc06e03-1a5d-4871-af13-d41c838da8af');\n",
              "          const dataTable =\n",
              "            await google.colab.kernel.invokeFunction('convertToInteractive',\n",
              "                                                     [key], {});\n",
              "          if (!dataTable) return;\n",
              "\n",
              "          const docLinkHtml = 'Like what you see? Visit the ' +\n",
              "            '<a target=\"_blank\" href=https://colab.research.google.com/notebooks/data_table.ipynb>data table notebook</a>'\n",
              "            + ' to learn more about interactive tables.';\n",
              "          element.innerHTML = '';\n",
              "          dataTable['output_type'] = 'display_data';\n",
              "          await google.colab.output.renderOutput(dataTable, element);\n",
              "          const docLink = document.createElement('div');\n",
              "          docLink.innerHTML = docLinkHtml;\n",
              "          element.appendChild(docLink);\n",
              "        }\n",
              "      </script>\n",
              "    </div>\n",
              "  </div>\n"
            ]
          },
          "metadata": {},
          "execution_count": 7
        }
      ],
      "source": [
        "# Read in dataset\n",
        "df = pd.read_csv('labeled_bettertransformer_tweets_super air jet.csv')\n",
        "print('Dataframe:')\n",
        "df.head(1)"
      ]
    },
    {
      "cell_type": "code",
      "source": [
        "# Get basic information about the dataset\n",
        "print(df.info())"
      ],
      "metadata": {
        "colab": {
          "base_uri": "https://localhost:8080/"
        },
        "id": "KUcyW2p4Pt5K",
        "outputId": "a910952f-c57a-468e-8b41-d2dc1c5314f4"
      },
      "execution_count": null,
      "outputs": [
        {
          "output_type": "stream",
          "name": "stdout",
          "text": [
            "<class 'pandas.core.frame.DataFrame'>\n",
            "RangeIndex: 2453 entries, 0 to 2452\n",
            "Data columns (total 13 columns):\n",
            " #   Column          Non-Null Count  Dtype  \n",
            "---  ------          --------------  -----  \n",
            " 0   userId          2453 non-null   float64\n",
            " 1   username        2453 non-null   object \n",
            " 2   date            2453 non-null   object \n",
            " 3   content         2453 non-null   object \n",
            " 4   tweetId         2453 non-null   float64\n",
            " 5   replyCount      2453 non-null   int64  \n",
            " 6   retweetCount    2453 non-null   int64  \n",
            " 7   likeCount       2453 non-null   int64  \n",
            " 8   inReplyToUser   929 non-null    object \n",
            " 9   mentionedUsers  1663 non-null   object \n",
            " 10  hashtags        194 non-null    object \n",
            " 11  Sentiment       2453 non-null   object \n",
            " 12  Confidence      2453 non-null   float64\n",
            "dtypes: float64(3), int64(3), object(7)\n",
            "memory usage: 249.3+ KB\n",
            "None\n"
          ]
        }
      ]
    },
    {
      "cell_type": "code",
      "source": [
        "# Select features\n",
        "df_features = df[['tweetId', 'content', 'Sentiment']]\n",
        "print('Feature selected DataFrame:')\n",
        "df_features.head(2)"
      ],
      "metadata": {
        "colab": {
          "base_uri": "https://localhost:8080/",
          "height": 129
        },
        "id": "8eiMLKApJmVL",
        "outputId": "9f4b3258-abce-4efc-e9ce-66818a3b60d3"
      },
      "execution_count": null,
      "outputs": [
        {
          "output_type": "stream",
          "name": "stdout",
          "text": [
            "Feature selected DataFrame:\n"
          ]
        },
        {
          "output_type": "execute_result",
          "data": {
            "text/plain": [
              "        tweetId                                            content Sentiment\n",
              "0  1.670000e+18   superairjet min ini iu717 mau berangkat jam b...   neutral\n",
              "1  1.670000e+18                             superairjet min cek dm   neutral"
            ],
            "text/html": [
              "\n",
              "\n",
              "  <div id=\"df-3a3f00fc-35f0-4979-93a3-714758c1fe0a\">\n",
              "    <div class=\"colab-df-container\">\n",
              "      <div>\n",
              "<style scoped>\n",
              "    .dataframe tbody tr th:only-of-type {\n",
              "        vertical-align: middle;\n",
              "    }\n",
              "\n",
              "    .dataframe tbody tr th {\n",
              "        vertical-align: top;\n",
              "    }\n",
              "\n",
              "    .dataframe thead th {\n",
              "        text-align: right;\n",
              "    }\n",
              "</style>\n",
              "<table border=\"1\" class=\"dataframe\">\n",
              "  <thead>\n",
              "    <tr style=\"text-align: right;\">\n",
              "      <th></th>\n",
              "      <th>tweetId</th>\n",
              "      <th>content</th>\n",
              "      <th>Sentiment</th>\n",
              "    </tr>\n",
              "  </thead>\n",
              "  <tbody>\n",
              "    <tr>\n",
              "      <th>0</th>\n",
              "      <td>1.670000e+18</td>\n",
              "      <td>superairjet min ini iu717 mau berangkat jam b...</td>\n",
              "      <td>neutral</td>\n",
              "    </tr>\n",
              "    <tr>\n",
              "      <th>1</th>\n",
              "      <td>1.670000e+18</td>\n",
              "      <td>superairjet min cek dm</td>\n",
              "      <td>neutral</td>\n",
              "    </tr>\n",
              "  </tbody>\n",
              "</table>\n",
              "</div>\n",
              "      <button class=\"colab-df-convert\" onclick=\"convertToInteractive('df-3a3f00fc-35f0-4979-93a3-714758c1fe0a')\"\n",
              "              title=\"Convert this dataframe to an interactive table.\"\n",
              "              style=\"display:none;\">\n",
              "\n",
              "  <svg xmlns=\"http://www.w3.org/2000/svg\" height=\"24px\"viewBox=\"0 0 24 24\"\n",
              "       width=\"24px\">\n",
              "    <path d=\"M0 0h24v24H0V0z\" fill=\"none\"/>\n",
              "    <path d=\"M18.56 5.44l.94 2.06.94-2.06 2.06-.94-2.06-.94-.94-2.06-.94 2.06-2.06.94zm-11 1L8.5 8.5l.94-2.06 2.06-.94-2.06-.94L8.5 2.5l-.94 2.06-2.06.94zm10 10l.94 2.06.94-2.06 2.06-.94-2.06-.94-.94-2.06-.94 2.06-2.06.94z\"/><path d=\"M17.41 7.96l-1.37-1.37c-.4-.4-.92-.59-1.43-.59-.52 0-1.04.2-1.43.59L10.3 9.45l-7.72 7.72c-.78.78-.78 2.05 0 2.83L4 21.41c.39.39.9.59 1.41.59.51 0 1.02-.2 1.41-.59l7.78-7.78 2.81-2.81c.8-.78.8-2.07 0-2.86zM5.41 20L4 18.59l7.72-7.72 1.47 1.35L5.41 20z\"/>\n",
              "  </svg>\n",
              "      </button>\n",
              "\n",
              "\n",
              "\n",
              "    <div id=\"df-0e6d8856-146b-46a0-a185-3e4a0531b9a6\">\n",
              "      <button class=\"colab-df-quickchart\" onclick=\"quickchart('df-0e6d8856-146b-46a0-a185-3e4a0531b9a6')\"\n",
              "              title=\"Suggest charts.\"\n",
              "              style=\"display:none;\">\n",
              "\n",
              "<svg xmlns=\"http://www.w3.org/2000/svg\" height=\"24px\"viewBox=\"0 0 24 24\"\n",
              "     width=\"24px\">\n",
              "    <g>\n",
              "        <path d=\"M19 3H5c-1.1 0-2 .9-2 2v14c0 1.1.9 2 2 2h14c1.1 0 2-.9 2-2V5c0-1.1-.9-2-2-2zM9 17H7v-7h2v7zm4 0h-2V7h2v10zm4 0h-2v-4h2v4z\"/>\n",
              "    </g>\n",
              "</svg>\n",
              "      </button>\n",
              "    </div>\n",
              "\n",
              "<style>\n",
              "  .colab-df-quickchart {\n",
              "    background-color: #E8F0FE;\n",
              "    border: none;\n",
              "    border-radius: 50%;\n",
              "    cursor: pointer;\n",
              "    display: none;\n",
              "    fill: #1967D2;\n",
              "    height: 32px;\n",
              "    padding: 0 0 0 0;\n",
              "    width: 32px;\n",
              "  }\n",
              "\n",
              "  .colab-df-quickchart:hover {\n",
              "    background-color: #E2EBFA;\n",
              "    box-shadow: 0px 1px 2px rgba(60, 64, 67, 0.3), 0px 1px 3px 1px rgba(60, 64, 67, 0.15);\n",
              "    fill: #174EA6;\n",
              "  }\n",
              "\n",
              "  [theme=dark] .colab-df-quickchart {\n",
              "    background-color: #3B4455;\n",
              "    fill: #D2E3FC;\n",
              "  }\n",
              "\n",
              "  [theme=dark] .colab-df-quickchart:hover {\n",
              "    background-color: #434B5C;\n",
              "    box-shadow: 0px 1px 3px 1px rgba(0, 0, 0, 0.15);\n",
              "    filter: drop-shadow(0px 1px 2px rgba(0, 0, 0, 0.3));\n",
              "    fill: #FFFFFF;\n",
              "  }\n",
              "</style>\n",
              "\n",
              "    <script>\n",
              "      async function quickchart(key) {\n",
              "        const containerElement = document.querySelector('#' + key);\n",
              "        const charts = await google.colab.kernel.invokeFunction(\n",
              "            'suggestCharts', [key], {});\n",
              "      }\n",
              "    </script>\n",
              "\n",
              "      <script>\n",
              "\n",
              "function displayQuickchartButton(domScope) {\n",
              "  let quickchartButtonEl =\n",
              "    domScope.querySelector('#df-0e6d8856-146b-46a0-a185-3e4a0531b9a6 button.colab-df-quickchart');\n",
              "  quickchartButtonEl.style.display =\n",
              "    google.colab.kernel.accessAllowed ? 'block' : 'none';\n",
              "}\n",
              "\n",
              "        displayQuickchartButton(document);\n",
              "      </script>\n",
              "      <style>\n",
              "    .colab-df-container {\n",
              "      display:flex;\n",
              "      flex-wrap:wrap;\n",
              "      gap: 12px;\n",
              "    }\n",
              "\n",
              "    .colab-df-convert {\n",
              "      background-color: #E8F0FE;\n",
              "      border: none;\n",
              "      border-radius: 50%;\n",
              "      cursor: pointer;\n",
              "      display: none;\n",
              "      fill: #1967D2;\n",
              "      height: 32px;\n",
              "      padding: 0 0 0 0;\n",
              "      width: 32px;\n",
              "    }\n",
              "\n",
              "    .colab-df-convert:hover {\n",
              "      background-color: #E2EBFA;\n",
              "      box-shadow: 0px 1px 2px rgba(60, 64, 67, 0.3), 0px 1px 3px 1px rgba(60, 64, 67, 0.15);\n",
              "      fill: #174EA6;\n",
              "    }\n",
              "\n",
              "    [theme=dark] .colab-df-convert {\n",
              "      background-color: #3B4455;\n",
              "      fill: #D2E3FC;\n",
              "    }\n",
              "\n",
              "    [theme=dark] .colab-df-convert:hover {\n",
              "      background-color: #434B5C;\n",
              "      box-shadow: 0px 1px 3px 1px rgba(0, 0, 0, 0.15);\n",
              "      filter: drop-shadow(0px 1px 2px rgba(0, 0, 0, 0.3));\n",
              "      fill: #FFFFFF;\n",
              "    }\n",
              "  </style>\n",
              "\n",
              "      <script>\n",
              "        const buttonEl =\n",
              "          document.querySelector('#df-3a3f00fc-35f0-4979-93a3-714758c1fe0a button.colab-df-convert');\n",
              "        buttonEl.style.display =\n",
              "          google.colab.kernel.accessAllowed ? 'block' : 'none';\n",
              "\n",
              "        async function convertToInteractive(key) {\n",
              "          const element = document.querySelector('#df-3a3f00fc-35f0-4979-93a3-714758c1fe0a');\n",
              "          const dataTable =\n",
              "            await google.colab.kernel.invokeFunction('convertToInteractive',\n",
              "                                                     [key], {});\n",
              "          if (!dataTable) return;\n",
              "\n",
              "          const docLinkHtml = 'Like what you see? Visit the ' +\n",
              "            '<a target=\"_blank\" href=https://colab.research.google.com/notebooks/data_table.ipynb>data table notebook</a>'\n",
              "            + ' to learn more about interactive tables.';\n",
              "          element.innerHTML = '';\n",
              "          dataTable['output_type'] = 'display_data';\n",
              "          await google.colab.output.renderOutput(dataTable, element);\n",
              "          const docLink = document.createElement('div');\n",
              "          docLink.innerHTML = docLinkHtml;\n",
              "          element.appendChild(docLink);\n",
              "        }\n",
              "      </script>\n",
              "    </div>\n",
              "  </div>\n"
            ]
          },
          "metadata": {},
          "execution_count": 9
        }
      ]
    },
    {
      "cell_type": "code",
      "source": [
        "# Plot sentiment distribution\n",
        "df_features['Sentiment'].value_counts().plot(kind = 'barh',\n",
        "                                            figsize = (15,10));\n",
        "plt.title('Distribution of Sentiment in Super Air Jet dataset',\n",
        "          fontsize = 26, weight = 'bold')\n",
        "plt.xlabel('Frequency', fontsize = 22)\n",
        "plt.xticks(fontsize = 20)\n",
        "plt.yticks(fontsize = 20);"
      ],
      "metadata": {
        "colab": {
          "base_uri": "https://localhost:8080/",
          "height": 458
        },
        "id": "dmw0GnjDKyzH",
        "outputId": "48310361-75f4-4e09-ee06-21de22a052c6"
      },
      "execution_count": null,
      "outputs": [
        {
          "output_type": "display_data",
          "data": {
            "text/plain": [
              "<Figure size 1500x1000 with 1 Axes>"
            ],
            "image/png": "[encoded data removed]"
          },
          "metadata": {}
        }
      ]
    },
    {
      "cell_type": "code",
      "source": [
        "class PreProcessor:\n",
        "    '''\n",
        "    Easily performs all the standard preprocessing steps\n",
        "    like removing stopwords, stemming, etc.\n",
        "    Only input that you need to provide is the dataframe and column name for the tweets\n",
        "    '''\n",
        "    def __init__(self, df, column_name):\n",
        "        self.data = df\n",
        "        self.conversations = list(self.data[column_name])\n",
        "        self.stopwords = set(stopwords.words('english'))\n",
        "        self.stemmer = SnowballStemmer(\"english\")\n",
        "        self.preprocessed = []\n",
        "\n",
        "    def tokenize(self, sentence):\n",
        "        '''\n",
        "        Splits up words and makes a list of all words in the tweet\n",
        "        '''\n",
        "        tokenized_sentence = word_tokenize(sentence)\n",
        "        return tokenized_sentence\n",
        "\n",
        "    def remove_stopwords(self, sentence):\n",
        "        '''Removes stopwords like 'a', 'the', 'and', etc.'''\n",
        "        filtered_sentence = []\n",
        "        for w in sentence:\n",
        "            if w not in self.stopwords and len(w) > 1 and w[:2] != '//' and w != 'https':\n",
        "                filtered_sentence.append(w)\n",
        "        return filtered_sentence\n",
        "\n",
        "    def stem(self, sentence):\n",
        "        '''\n",
        "        Stems certain words to their root form.\n",
        "        For example, words like 'computer', 'computation'\n",
        "        all get truncated to 'comput'\n",
        "        '''\n",
        "        return [self.stemmer.stem(word) for word in sentence]\n",
        "\n",
        "    def join_to_string(self, sentence):\n",
        "        '''\n",
        "        Joins the tokenized words to one string.\n",
        "        '''\n",
        "        return ' '.join(sentence)\n",
        "\n",
        "    def full_preprocess(self, n_rows=None):\n",
        "        '''\n",
        "        Preprocess a selected number of rows and\n",
        "        connects them back to strings\n",
        "        '''\n",
        "        # If nothing is given do it for the whole dataset\n",
        "        if n_rows == None:\n",
        "            n_rows = len(self.data)\n",
        "\n",
        "        # Perform preprocessing\n",
        "        for i in range(n_rows):\n",
        "            tweet = self.conversations[i]\n",
        "            tokenized = self.tokenize(tweet)\n",
        "            cleaned = self.remove_stopwords(tokenized)\n",
        "            stemmed = self.stem(cleaned)\n",
        "            joined = self.join_to_string(stemmed)\n",
        "            self.preprocessed.append(joined)\n",
        "        return self.preprocessed"
      ],
      "metadata": {
        "id": "h323SKGJLW5N"
      },
      "execution_count": null,
      "outputs": []
    },
    {
      "cell_type": "code",
      "source": [
        "# Preprocess text and put it in a new column\n",
        "preprocessor = PreProcessor(df_features, 'content')\n",
        "df_features['cleaned_text'] = preprocessor.full_preprocess()"
      ],
      "metadata": {
        "colab": {
          "base_uri": "https://localhost:8080/"
        },
        "id": "1UCZGewRMTel",
        "outputId": "c31909dd-b815-4e37-e6a4-df33de69a3b4"
      },
      "execution_count": null,
      "outputs": [
        {
          "output_type": "stream",
          "name": "stderr",
          "text": [
            "<ipython-input-12-1631c16badef>:3: SettingWithCopyWarning: \n",
            "A value is trying to be set on a copy of a slice from a DataFrame.\n",
            "Try using .loc[row_indexer,col_indexer] = value instead\n",
            "\n",
            "See the caveats in the documentation: https://pandas.pydata.org/pandas-docs/stable/user_guide/indexing.html#returning-a-view-versus-a-copy\n",
            "  df_features['cleaned_text'] = preprocessor.full_preprocess()\n"
          ]
        }
      ]
    },
    {
      "cell_type": "code",
      "source": [
        "# Shuffling so we can get random tweets for the test set\n",
        "seed = 42\n",
        "df_features = df_features.sample(frac=1, random_state=seed)\n",
        "# Keep 50 samples of the data as test set\n",
        "test_set = df_features[:50]"
      ],
      "metadata": {
        "id": "Zr8Ri45lMs69"
      },
      "execution_count": null,
      "outputs": []
    },
    {
      "cell_type": "code",
      "source": [
        "# Get training and validation data\n",
        "X_train, X_val, y_train, y_val = train_test_split(df_features['cleaned_text'][50:],\n",
        "                                                  df_features['Sentiment'][50:],\n",
        "                                                  test_size=0.2,\n",
        "                                                  random_state=seed)\n",
        "\n",
        "# Get sentiment labels for test set\n",
        "y_test = test_set['Sentiment']"
      ],
      "metadata": {
        "id": "cqV9i7vMQes1"
      },
      "execution_count": null,
      "outputs": []
    },
    {
      "cell_type": "code",
      "source": [
        "# Create matrix based on word frequency in tweets\n",
        "vectorizer = TfidfVectorizer()\n",
        "X_train = vectorizer.fit_transform(X_train)\n",
        "X_val = vectorizer.transform(X_val)\n",
        "X_test = vectorizer.transform(test_set['cleaned_text'])"
      ],
      "metadata": {
        "id": "lDtU02_CWikZ"
      },
      "execution_count": null,
      "outputs": []
    },
    {
      "cell_type": "code",
      "source": [
        "# Print the size of our data\n",
        "print(f'Training size: {X_train.shape[0]} tweets\\n\\\n",
        "Validation size: {X_val.shape[0]} tweets\\n\\\n",
        "Test size: {X_test.shape[0]} tweets\\n\\\n",
        "Amount of words (columns): {X_train.shape[1]} words')"
      ],
      "metadata": {
        "colab": {
          "base_uri": "https://localhost:8080/"
        },
        "id": "o0_yX552XiA_",
        "outputId": "62b30574-1e17-4e6f-e5e1-47c0d6f209b0"
      },
      "execution_count": null,
      "outputs": [
        {
          "output_type": "stream",
          "name": "stdout",
          "text": [
            "Training size: 1922 tweets\n",
            "Validation size: 481 tweets\n",
            "Test size: 50 tweets\n",
            "Amount of words (columns): 5828 words\n"
          ]
        }
      ]
    },
    {
      "cell_type": "code",
      "source": [
        "# Multinomial Naive Bayes\n",
        "multi_nb = MultinomialNB()\n",
        "multi_nb.fit(X_train, y_train)"
      ],
      "metadata": {
        "colab": {
          "base_uri": "https://localhost:8080/",
          "height": 74
        },
        "id": "FefL_B5YYVmn",
        "outputId": "5618e420-4bc2-4144-956d-52ff89316ea5"
      },
      "execution_count": null,
      "outputs": [
        {
          "output_type": "execute_result",
          "data": {
            "text/plain": [
              "MultinomialNB()"
            ],
            "text/html": [
              "<style>#sk-container-id-18 {color: black;background-color: white;}#sk-container-id-18 pre{padding: 0;}#sk-container-id-18 div.sk-toggleable {background-color: white;}#sk-container-id-18 label.sk-toggleable__label {cursor: pointer;display: block;width: 100%;margin-bottom: 0;padding: 0.3em;box-sizing: border-box;text-align: center;}#sk-container-id-18 label.sk-toggleable__label-arrow:before {content: \"▸\";float: left;margin-right: 0.25em;color: #696969;}#sk-container-id-18 label.sk-toggleable__label-arrow:hover:before {color: black;}#sk-container-id-18 div.sk-estimator:hover label.sk-toggleable__label-arrow:before {color: black;}#sk-container-id-18 div.sk-toggleable__content {max-height: 0;max-width: 0;overflow: hidden;text-align: left;background-color: #f0f8ff;}#sk-container-id-18 div.sk-toggleable__content pre {margin: 0.2em;color: black;border-radius: 0.25em;background-color: #f0f8ff;}#sk-container-id-18 input.sk-toggleable__control:checked~div.sk-toggleable__content {max-height: 200px;max-width: 100%;overflow: auto;}#sk-container-id-18 input.sk-toggleable__control:checked~label.sk-toggleable__label-arrow:before {content: \"▾\";}#sk-container-id-18 div.sk-estimator input.sk-toggleable__control:checked~label.sk-toggleable__label {background-color: #d4ebff;}#sk-container-id-18 div.sk-label input.sk-toggleable__control:checked~label.sk-toggleable__label {background-color: #d4ebff;}#sk-container-id-18 input.sk-hidden--visually {border: 0;clip: rect(1px 1px 1px 1px);clip: rect(1px, 1px, 1px, 1px);height: 1px;margin: -1px;overflow: hidden;padding: 0;position: absolute;width: 1px;}#sk-container-id-18 div.sk-estimator {font-family: monospace;background-color: #f0f8ff;border: 1px dotted black;border-radius: 0.25em;box-sizing: border-box;margin-bottom: 0.5em;}#sk-container-id-18 div.sk-estimator:hover {background-color: #d4ebff;}#sk-container-id-18 div.sk-parallel-item::after {content: \"\";width: 100%;border-bottom: 1px solid gray;flex-grow: 1;}#sk-container-id-18 div.sk-label:hover label.sk-toggleable__label {background-color: #d4ebff;}#sk-container-id-18 div.sk-serial::before {content: \"\";position: absolute;border-left: 1px solid gray;box-sizing: border-box;top: 0;bottom: 0;left: 50%;z-index: 0;}#sk-container-id-18 div.sk-serial {display: flex;flex-direction: column;align-items: center;background-color: white;padding-right: 0.2em;padding-left: 0.2em;position: relative;}#sk-container-id-18 div.sk-item {position: relative;z-index: 1;}#sk-container-id-18 div.sk-parallel {display: flex;align-items: stretch;justify-content: center;background-color: white;position: relative;}#sk-container-id-18 div.sk-item::before, #sk-container-id-18 div.sk-parallel-item::before {content: \"\";position: absolute;border-left: 1px solid gray;box-sizing: border-box;top: 0;bottom: 0;left: 50%;z-index: -1;}#sk-container-id-18 div.sk-parallel-item {display: flex;flex-direction: column;z-index: 1;position: relative;background-color: white;}#sk-container-id-18 div.sk-parallel-item:first-child::after {align-self: flex-end;width: 50%;}#sk-container-id-18 div.sk-parallel-item:last-child::after {align-self: flex-start;width: 50%;}#sk-container-id-18 div.sk-parallel-item:only-child::after {width: 0;}#sk-container-id-18 div.sk-dashed-wrapped {border: 1px dashed gray;margin: 0 0.4em 0.5em 0.4em;box-sizing: border-box;padding-bottom: 0.4em;background-color: white;}#sk-container-id-18 div.sk-label label {font-family: monospace;font-weight: bold;display: inline-block;line-height: 1.2em;}#sk-container-id-18 div.sk-label-container {text-align: center;}#sk-container-id-18 div.sk-container {/* jupyter's `normalize.less` sets `[hidden] { display: none; }` but bootstrap.min.css set `[hidden] { display: none !important; }` so we also need the `!important` here to be able to override the default hidden behavior on the sphinx rendered scikit-learn.org. See: https://github.com/scikit-learn/scikit-learn/issues/21755 */display: inline-block !important;position: relative;}#sk-container-id-18 div.sk-text-repr-fallback {display: none;}</style><div id=\"sk-container-id-18\" class=\"sk-top-container\"><div class=\"sk-text-repr-fallback\"><pre>MultinomialNB()</pre><b>In a Jupyter environment, please rerun this cell to show the HTML representation or trust the notebook. <br />On GitHub, the HTML representation is unable to render, please try loading this page with nbviewer.org.</b></div><div class=\"sk-container\" hidden><div class=\"sk-item\"><div class=\"sk-estimator sk-toggleable\"><input class=\"sk-toggleable__control sk-hidden--visually\" id=\"sk-estimator-id-18\" type=\"checkbox\" checked><label for=\"sk-estimator-id-18\" class=\"sk-toggleable__label sk-toggleable__label-arrow\">MultinomialNB</label><div class=\"sk-toggleable__content\"><pre>MultinomialNB()</pre></div></div></div></div></div>"
            ]
          },
          "metadata": {},
          "execution_count": 141
        }
      ]
    },
    {
      "cell_type": "code",
      "source": [
        "# Check results\n",
        "train_pred = multi_nb.predict(X_train)\n",
        "val_pred = multi_nb.predict(X_val)\n",
        "print(f'Accuracy on training set (MultinomialNB): {round(accuracy_score(y_train, train_pred)*100, 4)}%')\n",
        "print(f'Accuracy on validation set (MultinomialNB): {round(accuracy_score(y_val,val_pred)*100, 4)}%')"
      ],
      "metadata": {
        "colab": {
          "base_uri": "https://localhost:8080/"
        },
        "id": "xmb3bvokaG1s",
        "outputId": "1d40fcfc-9fc9-4aeb-e3d3-68ed480976e4"
      },
      "execution_count": null,
      "outputs": [
        {
          "output_type": "stream",
          "name": "stdout",
          "text": [
            "Accuracy on training set (MultinomialNB): 81.9459%\n",
            "Accuracy on validation set (MultinomialNB): 71.9335%\n"
          ]
        }
      ]
    },
    {
      "cell_type": "code",
      "source": [
        "# sklearn's Gradient Boosting Classifier (GBM)\n",
        "gbm = GradientBoostingClassifier(n_estimators=200,\n",
        "                                 max_depth=6,\n",
        "                                 random_state=seed)\n",
        "gbm.fit(X_train, y_train)"
      ],
      "metadata": {
        "colab": {
          "base_uri": "https://localhost:8080/",
          "height": 74
        },
        "id": "cEwFLyiQawRQ",
        "outputId": "226c0725-cc46-4819-af55-28ffee9c45cf"
      },
      "execution_count": null,
      "outputs": [
        {
          "output_type": "execute_result",
          "data": {
            "text/plain": [
              "GradientBoostingClassifier(max_depth=6, n_estimators=200, random_state=42)"
            ],
            "text/html": [
              "<style>#sk-container-id-19 {color: black;background-color: white;}#sk-container-id-19 pre{padding: 0;}#sk-container-id-19 div.sk-toggleable {background-color: white;}#sk-container-id-19 label.sk-toggleable__label {cursor: pointer;display: block;width: 100%;margin-bottom: 0;padding: 0.3em;box-sizing: border-box;text-align: center;}#sk-container-id-19 label.sk-toggleable__label-arrow:before {content: \"▸\";float: left;margin-right: 0.25em;color: #696969;}#sk-container-id-19 label.sk-toggleable__label-arrow:hover:before {color: black;}#sk-container-id-19 div.sk-estimator:hover label.sk-toggleable__label-arrow:before {color: black;}#sk-container-id-19 div.sk-toggleable__content {max-height: 0;max-width: 0;overflow: hidden;text-align: left;background-color: #f0f8ff;}#sk-container-id-19 div.sk-toggleable__content pre {margin: 0.2em;color: black;border-radius: 0.25em;background-color: #f0f8ff;}#sk-container-id-19 input.sk-toggleable__control:checked~div.sk-toggleable__content {max-height: 200px;max-width: 100%;overflow: auto;}#sk-container-id-19 input.sk-toggleable__control:checked~label.sk-toggleable__label-arrow:before {content: \"▾\";}#sk-container-id-19 div.sk-estimator input.sk-toggleable__control:checked~label.sk-toggleable__label {background-color: #d4ebff;}#sk-container-id-19 div.sk-label input.sk-toggleable__control:checked~label.sk-toggleable__label {background-color: #d4ebff;}#sk-container-id-19 input.sk-hidden--visually {border: 0;clip: rect(1px 1px 1px 1px);clip: rect(1px, 1px, 1px, 1px);height: 1px;margin: -1px;overflow: hidden;padding: 0;position: absolute;width: 1px;}#sk-container-id-19 div.sk-estimator {font-family: monospace;background-color: #f0f8ff;border: 1px dotted black;border-radius: 0.25em;box-sizing: border-box;margin-bottom: 0.5em;}#sk-container-id-19 div.sk-estimator:hover {background-color: #d4ebff;}#sk-container-id-19 div.sk-parallel-item::after {content: \"\";width: 100%;border-bottom: 1px solid gray;flex-grow: 1;}#sk-container-id-19 div.sk-label:hover label.sk-toggleable__label {background-color: #d4ebff;}#sk-container-id-19 div.sk-serial::before {content: \"\";position: absolute;border-left: 1px solid gray;box-sizing: border-box;top: 0;bottom: 0;left: 50%;z-index: 0;}#sk-container-id-19 div.sk-serial {display: flex;flex-direction: column;align-items: center;background-color: white;padding-right: 0.2em;padding-left: 0.2em;position: relative;}#sk-container-id-19 div.sk-item {position: relative;z-index: 1;}#sk-container-id-19 div.sk-parallel {display: flex;align-items: stretch;justify-content: center;background-color: white;position: relative;}#sk-container-id-19 div.sk-item::before, #sk-container-id-19 div.sk-parallel-item::before {content: \"\";position: absolute;border-left: 1px solid gray;box-sizing: border-box;top: 0;bottom: 0;left: 50%;z-index: -1;}#sk-container-id-19 div.sk-parallel-item {display: flex;flex-direction: column;z-index: 1;position: relative;background-color: white;}#sk-container-id-19 div.sk-parallel-item:first-child::after {align-self: flex-end;width: 50%;}#sk-container-id-19 div.sk-parallel-item:last-child::after {align-self: flex-start;width: 50%;}#sk-container-id-19 div.sk-parallel-item:only-child::after {width: 0;}#sk-container-id-19 div.sk-dashed-wrapped {border: 1px dashed gray;margin: 0 0.4em 0.5em 0.4em;box-sizing: border-box;padding-bottom: 0.4em;background-color: white;}#sk-container-id-19 div.sk-label label {font-family: monospace;font-weight: bold;display: inline-block;line-height: 1.2em;}#sk-container-id-19 div.sk-label-container {text-align: center;}#sk-container-id-19 div.sk-container {/* jupyter's `normalize.less` sets `[hidden] { display: none; }` but bootstrap.min.css set `[hidden] { display: none !important; }` so we also need the `!important` here to be able to override the default hidden behavior on the sphinx rendered scikit-learn.org. See: https://github.com/scikit-learn/scikit-learn/issues/21755 */display: inline-block !important;position: relative;}#sk-container-id-19 div.sk-text-repr-fallback {display: none;}</style><div id=\"sk-container-id-19\" class=\"sk-top-container\"><div class=\"sk-text-repr-fallback\"><pre>GradientBoostingClassifier(max_depth=6, n_estimators=200, random_state=42)</pre><b>In a Jupyter environment, please rerun this cell to show the HTML representation or trust the notebook. <br />On GitHub, the HTML representation is unable to render, please try loading this page with nbviewer.org.</b></div><div class=\"sk-container\" hidden><div class=\"sk-item\"><div class=\"sk-estimator sk-toggleable\"><input class=\"sk-toggleable__control sk-hidden--visually\" id=\"sk-estimator-id-19\" type=\"checkbox\" checked><label for=\"sk-estimator-id-19\" class=\"sk-toggleable__label sk-toggleable__label-arrow\">GradientBoostingClassifier</label><div class=\"sk-toggleable__content\"><pre>GradientBoostingClassifier(max_depth=6, n_estimators=200, random_state=42)</pre></div></div></div></div></div>"
            ]
          },
          "metadata": {},
          "execution_count": 143
        }
      ]
    },
    {
      "cell_type": "code",
      "source": [
        "# Check results\n",
        "train_pred = gbm.predict(X_train)\n",
        "val_pred = gbm.predict(X_val)\n",
        "print(f'Accuracy on training set (GBM): {round(accuracy_score(y_train, train_pred)*100, 4)}%')\n",
        "print(f'Accuracy on validation set (GBM): {round(accuracy_score(y_val,val_pred)*100, 4)}%')"
      ],
      "metadata": {
        "colab": {
          "base_uri": "https://localhost:8080/"
        },
        "id": "jaEWQBmVct2w",
        "outputId": "9e9791fa-280f-49f4-d65b-15c36e0a87fa"
      },
      "execution_count": null,
      "outputs": [
        {
          "output_type": "stream",
          "name": "stdout",
          "text": [
            "Accuracy on training set (GBM): 100.0%\n",
            "Accuracy on validation set (GBM): 78.7942%\n"
          ]
        }
      ]
    },
    {
      "cell_type": "code",
      "source": [
        "# Hyperparameters that you can tweak\n",
        "# There are a lot more tweakable hyperparameters that you can find at\n",
        "# https://xgboost.readthedocs.io/en/latest/parameter.html\n",
        "xgb_params = {'objective' : 'multi:softmax',\n",
        "              'eval_metric' : 'mlogloss',\n",
        "              'eta' : 0.1,\n",
        "              'max_depth' : 6,\n",
        "              'num_class' : 3,\n",
        "              'lambda' : 0.8,\n",
        "              'estimators' : 200,\n",
        "              'seed' : seed\n",
        "\n",
        "}\n",
        "\n",
        "# Transform categories into numbers\n",
        "# negative = 0, neutral = 1 and positive = 2\n",
        "target_train = y_train.astype('category').cat.codes\n",
        "target_val = y_val.astype('category').cat.codes\n",
        "\n",
        "# Transform data into a matrix so that we can use XGBoost\n",
        "d_train = xgb.DMatrix(X_train, label = target_train)\n",
        "d_val = xgb.DMatrix(X_val, label = target_val)\n",
        "\n",
        "# Fit XGBoost\n",
        "watchlist = [(d_train, 'train'), (d_val, 'validation')]\n",
        "bst = xgb.train(xgb_params,\n",
        "                d_train,\n",
        "                400,\n",
        "                watchlist,\n",
        "                early_stopping_rounds = 50,\n",
        "                verbose_eval = 0)"
      ],
      "metadata": {
        "colab": {
          "base_uri": "https://localhost:8080/"
        },
        "id": "AYsac2RndlGq",
        "outputId": "0d340dc9-bca4-439f-f7d6-d9fe853c32b8"
      },
      "execution_count": null,
      "outputs": [
        {
          "output_type": "stream",
          "name": "stdout",
          "text": [
            "[09:08:44] WARNING: ../src/learner.cc:767: \n",
            "Parameters: { \"estimators\" } are not used.\n",
            "\n"
          ]
        },
        {
          "output_type": "stream",
          "name": "stderr",
          "text": [
            "/usr/local/lib/python3.10/dist-packages/xgboost/core.py:617: FutureWarning: Pass `evals` as keyword args.\n",
            "  warnings.warn(msg, FutureWarning)\n"
          ]
        }
      ]
    },
    {
      "cell_type": "code",
      "source": [
        "# Check results for XGBoost\n",
        "train_pred = bst.predict(d_train)\n",
        "val_pred = bst.predict(d_val)\n",
        "print(f'Accuracy on training set (XGBoost): {round(accuracy_score(target_train, train_pred)*100, 4)}%')\n",
        "print(f'Accuracy on validation set (XGBoost): {round(accuracy_score(target_val, val_pred)*100, 4)}%')"
      ],
      "metadata": {
        "colab": {
          "base_uri": "https://localhost:8080/"
        },
        "id": "R8qULp89eclR",
        "outputId": "7f704f18-6fe4-4a1e-bffb-34bec8e9af28"
      },
      "execution_count": null,
      "outputs": [
        {
          "output_type": "stream",
          "name": "stdout",
          "text": [
            "Accuracy on training set (XGBoost): 97.0864%\n",
            "Accuracy on validation set (XGBoost): 77.7547%\n"
          ]
        }
      ]
    },
    {
      "cell_type": "code",
      "source": [
        "# Generator so we can easily feed batches of data to the neural network\n",
        "def batch_generator(X, y, batch_size, shuffle):\n",
        "    number_of_batches = X.shape[0] // batch_size\n",
        "    counter = 0\n",
        "    sample_index = np.arange(X.shape[0])\n",
        "    while True:\n",
        "        if shuffle:\n",
        "            np.random.shuffle(sample_index)\n",
        "        batch_index = sample_index[batch_size * counter:batch_size * (counter + 1)]\n",
        "        X_batch = X[batch_index, :].toarray()\n",
        "        y_batch = y[batch_index]\n",
        "        counter += 1\n",
        "        yield X_batch, y_batch\n",
        "        if counter == number_of_batches:\n",
        "            counter = 0"
      ],
      "metadata": {
        "id": "VS9OJk7OfHm8"
      },
      "execution_count": null,
      "outputs": []
    },
    {
      "cell_type": "code",
      "source": [
        "# Onehot encoding of target variable\n",
        "# Negative = [1,0,0], Neutral = [0,1,0], Positive = [0,0,1]\n",
        "\n",
        "# Initialize sklearn's one-hot encoder class\n",
        "onehot_encoder = OneHotEncoder(sparse_output=False)\n",
        "\n",
        "# One hot encoding for training set\n",
        "integer_encoded_train = np.array(y_train).reshape(len(y_train), 1)\n",
        "onehot_encoded_train = onehot_encoder.fit_transform(integer_encoded_train)\n",
        "\n",
        "# One hot encoding for validation set\n",
        "integer_encoded_val = np.array(y_val).reshape(len(y_val), 1)\n",
        "onehot_encoded_val = onehot_encoder.fit_transform(integer_encoded_val)"
      ],
      "metadata": {
        "id": "u2cIlHQrD2OU"
      },
      "execution_count": null,
      "outputs": []
    },
    {
      "cell_type": "code",
      "source": [
        "# Neural network architecture\n",
        "initializer = keras.initializers.he_normal(seed=seed)\n",
        "activation = keras.activations.elu\n",
        "optimizer = keras.optimizers.Adam(learning_rate=0.0002, beta_1=0.9, beta_2=0.999, epsilon=1e-9)\n",
        "\n",
        "# Build model architecture\n",
        "model = Sequential()\n",
        "model.add(Dense(30, activation=activation, kernel_initializer=initializer, input_dim=X_train.shape[1]))\n",
        "model.add(Dropout(0.5))\n",
        "model.add(Dense(3, activation='softmax', kernel_initializer=initializer))\n",
        "model.compile(optimizer=optimizer,\n",
        "              loss='categorical_crossentropy',\n",
        "              metrics=['accuracy'])\n",
        "\n",
        "# Hyperparameters\n",
        "epochs = 40\n",
        "batch_size = 24\n",
        "\n",
        "# Fit the model using the batch_generator\n",
        "hist = model.fit(x=batch_generator(X_train, onehot_encoded_train, batch_size=batch_size, shuffle=True),\n",
        "                 epochs=epochs, validation_data=(X_val, onehot_encoded_val),\n",
        "                 steps_per_epoch=X_train.shape[0]//batch_size)"
      ],
      "metadata": {
        "colab": {
          "base_uri": "https://localhost:8080/"
        },
        "id": "chTNQE4JGFhQ",
        "outputId": "e514d7ca-e411-47d8-aaa6-d73936f71556"
      },
      "execution_count": null,
      "outputs": [
        {
          "output_type": "stream",
          "name": "stdout",
          "text": [
            "Epoch 1/40\n",
            "80/80 [==============================] - 1s 4ms/step - loss: 1.0535 - accuracy: 0.5896 - val_loss: 1.0124 - val_accuracy: 0.6154\n",
            "Epoch 2/40\n",
            "80/80 [==============================] - 0s 3ms/step - loss: 0.9603 - accuracy: 0.6562 - val_loss: 0.9316 - val_accuracy: 0.6154\n",
            "Epoch 3/40\n",
            "80/80 [==============================] - 0s 3ms/step - loss: 0.8597 - accuracy: 0.6698 - val_loss: 0.8639 - val_accuracy: 0.6154\n",
            "Epoch 4/40\n",
            "80/80 [==============================] - 0s 3ms/step - loss: 0.8052 - accuracy: 0.6391 - val_loss: 0.8165 - val_accuracy: 0.6154\n",
            "Epoch 5/40\n",
            "80/80 [==============================] - 0s 3ms/step - loss: 0.7559 - accuracy: 0.6479 - val_loss: 0.7819 - val_accuracy: 0.6154\n",
            "Epoch 6/40\n",
            "80/80 [==============================] - 0s 3ms/step - loss: 0.7125 - accuracy: 0.6609 - val_loss: 0.7534 - val_accuracy: 0.6154\n",
            "Epoch 7/40\n",
            "80/80 [==============================] - 0s 3ms/step - loss: 0.6731 - accuracy: 0.6682 - val_loss: 0.7277 - val_accuracy: 0.6195\n",
            "Epoch 8/40\n",
            "80/80 [==============================] - 0s 3ms/step - loss: 0.6396 - accuracy: 0.6891 - val_loss: 0.7028 - val_accuracy: 0.6486\n",
            "Epoch 9/40\n",
            "80/80 [==============================] - 0s 3ms/step - loss: 0.6036 - accuracy: 0.7286 - val_loss: 0.6804 - val_accuracy: 0.6653\n",
            "Epoch 10/40\n",
            "80/80 [==============================] - 0s 3ms/step - loss: 0.5935 - accuracy: 0.7344 - val_loss: 0.6586 - val_accuracy: 0.6985\n",
            "Epoch 11/40\n",
            "80/80 [==============================] - 0s 5ms/step - loss: 0.5371 - accuracy: 0.7932 - val_loss: 0.6410 - val_accuracy: 0.7110\n",
            "Epoch 12/40\n",
            "80/80 [==============================] - 0s 5ms/step - loss: 0.5420 - accuracy: 0.7964 - val_loss: 0.6237 - val_accuracy: 0.7277\n",
            "Epoch 13/40\n",
            "80/80 [==============================] - 0s 5ms/step - loss: 0.5120 - accuracy: 0.8208 - val_loss: 0.6086 - val_accuracy: 0.7401\n",
            "Epoch 14/40\n",
            "80/80 [==============================] - 0s 5ms/step - loss: 0.4828 - accuracy: 0.8359 - val_loss: 0.5941 - val_accuracy: 0.7568\n",
            "Epoch 15/40\n",
            "80/80 [==============================] - 0s 4ms/step - loss: 0.4565 - accuracy: 0.8510 - val_loss: 0.5837 - val_accuracy: 0.7672\n",
            "Epoch 16/40\n",
            "80/80 [==============================] - 0s 3ms/step - loss: 0.4383 - accuracy: 0.8557 - val_loss: 0.5738 - val_accuracy: 0.7651\n",
            "Epoch 17/40\n",
            "80/80 [==============================] - 0s 3ms/step - loss: 0.4467 - accuracy: 0.8401 - val_loss: 0.5633 - val_accuracy: 0.7755\n",
            "Epoch 18/40\n",
            "80/80 [==============================] - 0s 3ms/step - loss: 0.3890 - accuracy: 0.8708 - val_loss: 0.5568 - val_accuracy: 0.7692\n",
            "Epoch 19/40\n",
            "80/80 [==============================] - 0s 3ms/step - loss: 0.3887 - accuracy: 0.8677 - val_loss: 0.5498 - val_accuracy: 0.7713\n",
            "Epoch 20/40\n",
            "80/80 [==============================] - 0s 3ms/step - loss: 0.3836 - accuracy: 0.8599 - val_loss: 0.5430 - val_accuracy: 0.7775\n",
            "Epoch 21/40\n",
            "80/80 [==============================] - 0s 3ms/step - loss: 0.3574 - accuracy: 0.8781 - val_loss: 0.5374 - val_accuracy: 0.7755\n",
            "Epoch 22/40\n",
            "80/80 [==============================] - 0s 3ms/step - loss: 0.3469 - accuracy: 0.8833 - val_loss: 0.5327 - val_accuracy: 0.7734\n",
            "Epoch 23/40\n",
            "80/80 [==============================] - 0s 3ms/step - loss: 0.3261 - accuracy: 0.8839 - val_loss: 0.5269 - val_accuracy: 0.7859\n",
            "Epoch 24/40\n",
            "80/80 [==============================] - 0s 3ms/step - loss: 0.3234 - accuracy: 0.8974 - val_loss: 0.5223 - val_accuracy: 0.7838\n",
            "Epoch 25/40\n",
            "80/80 [==============================] - 0s 3ms/step - loss: 0.2980 - accuracy: 0.9208 - val_loss: 0.5186 - val_accuracy: 0.7859\n",
            "Epoch 26/40\n",
            "80/80 [==============================] - 0s 3ms/step - loss: 0.2892 - accuracy: 0.9182 - val_loss: 0.5147 - val_accuracy: 0.7838\n",
            "Epoch 27/40\n",
            "80/80 [==============================] - 0s 3ms/step - loss: 0.2748 - accuracy: 0.9271 - val_loss: 0.5119 - val_accuracy: 0.7838\n",
            "Epoch 28/40\n",
            "80/80 [==============================] - 0s 3ms/step - loss: 0.2779 - accuracy: 0.9302 - val_loss: 0.5080 - val_accuracy: 0.7838\n",
            "Epoch 29/40\n",
            "80/80 [==============================] - 0s 3ms/step - loss: 0.2558 - accuracy: 0.9406 - val_loss: 0.5057 - val_accuracy: 0.7838\n",
            "Epoch 30/40\n",
            "80/80 [==============================] - 0s 3ms/step - loss: 0.2583 - accuracy: 0.9323 - val_loss: 0.5026 - val_accuracy: 0.7900\n",
            "Epoch 31/40\n",
            "80/80 [==============================] - 0s 3ms/step - loss: 0.2331 - accuracy: 0.9510 - val_loss: 0.4994 - val_accuracy: 0.7900\n",
            "Epoch 32/40\n",
            "80/80 [==============================] - 0s 3ms/step - loss: 0.2342 - accuracy: 0.9563 - val_loss: 0.4969 - val_accuracy: 0.8004\n",
            "Epoch 33/40\n",
            "80/80 [==============================] - 0s 3ms/step - loss: 0.2268 - accuracy: 0.9542 - val_loss: 0.4953 - val_accuracy: 0.7983\n",
            "Epoch 34/40\n",
            "80/80 [==============================] - 0s 3ms/step - loss: 0.2167 - accuracy: 0.9661 - val_loss: 0.4942 - val_accuracy: 0.8067\n",
            "Epoch 35/40\n",
            "80/80 [==============================] - 0s 3ms/step - loss: 0.2105 - accuracy: 0.9635 - val_loss: 0.4931 - val_accuracy: 0.8067\n",
            "Epoch 36/40\n",
            "80/80 [==============================] - 0s 3ms/step - loss: 0.2003 - accuracy: 0.9688 - val_loss: 0.4925 - val_accuracy: 0.8046\n",
            "Epoch 37/40\n",
            "80/80 [==============================] - 0s 3ms/step - loss: 0.1926 - accuracy: 0.9698 - val_loss: 0.4913 - val_accuracy: 0.8046\n",
            "Epoch 38/40\n",
            "80/80 [==============================] - 0s 3ms/step - loss: 0.1861 - accuracy: 0.9755 - val_loss: 0.4906 - val_accuracy: 0.8046\n",
            "Epoch 39/40\n",
            "80/80 [==============================] - 0s 3ms/step - loss: 0.1720 - accuracy: 0.9745 - val_loss: 0.4904 - val_accuracy: 0.8067\n",
            "Epoch 40/40\n",
            "80/80 [==============================] - 0s 3ms/step - loss: 0.1614 - accuracy: 0.9823 - val_loss: 0.4915 - val_accuracy: 0.8108\n"
          ]
        }
      ]
    },
    {
      "cell_type": "code",
      "source": [
        "# Visualize Accuracy\n",
        "acc = hist.history['accuracy']\n",
        "val_acc = hist.history['val_accuracy']\n",
        "\n",
        "# Get the amount of epochs for visualization\n",
        "n_epochs = range(epochs)\n",
        "\n",
        "# Plot training and validation accuracy\n",
        "plt.figure(figsize=(15,5))\n",
        "plt.plot(n_epochs, acc)\n",
        "plt.plot(n_epochs, val_acc)\n",
        "plt.title('Accuracy over epochs', weight='bold', fontsize=22)\n",
        "plt.xlabel('Epochs', fontsize=16)\n",
        "plt.ylabel('Accuracy', fontsize=16)\n",
        "plt.legend(['Training accuracy', 'Validation accuracy'], fontsize=16)\n",
        "plt.show()"
      ],
      "metadata": {
        "colab": {
          "base_uri": "https://localhost:8080/",
          "height": 268
        },
        "id": "kQTMIOeBGdUQ",
        "outputId": "cb45f06b-96fc-4af1-b43f-c847f1e16fc4"
      },
      "execution_count": null,
      "outputs": [
        {
          "output_type": "display_data",
          "data": {
            "text/plain": [
              "<Figure size 1500x500 with 1 Axes>"
            ],
            "image/png": "[encoded data removed]"
          },
          "metadata": {}
        }
      ]
    },
    {
      "cell_type": "code",
      "source": [
        "text_classifier = RandomForestClassifier(n_estimators=200, random_state=0)\n",
        "text_classifier.fit(X_train, y_train)"
      ],
      "metadata": {
        "id": "2WvUyMN-Ihu0",
        "colab": {
          "base_uri": "https://localhost:8080/",
          "height": 74
        },
        "outputId": "88a1bd40-d72a-4b6f-9896-6caa26a5ee34"
      },
      "execution_count": null,
      "outputs": [
        {
          "output_type": "execute_result",
          "data": {
            "text/plain": [
              "RandomForestClassifier(n_estimators=200, random_state=0)"
            ],
            "text/html": [
              "<style>#sk-container-id-20 {color: black;background-color: white;}#sk-container-id-20 pre{padding: 0;}#sk-container-id-20 div.sk-toggleable {background-color: white;}#sk-container-id-20 label.sk-toggleable__label {cursor: pointer;display: block;width: 100%;margin-bottom: 0;padding: 0.3em;box-sizing: border-box;text-align: center;}#sk-container-id-20 label.sk-toggleable__label-arrow:before {content: \"▸\";float: left;margin-right: 0.25em;color: #696969;}#sk-container-id-20 label.sk-toggleable__label-arrow:hover:before {color: black;}#sk-container-id-20 div.sk-estimator:hover label.sk-toggleable__label-arrow:before {color: black;}#sk-container-id-20 div.sk-toggleable__content {max-height: 0;max-width: 0;overflow: hidden;text-align: left;background-color: #f0f8ff;}#sk-container-id-20 div.sk-toggleable__content pre {margin: 0.2em;color: black;border-radius: 0.25em;background-color: #f0f8ff;}#sk-container-id-20 input.sk-toggleable__control:checked~div.sk-toggleable__content {max-height: 200px;max-width: 100%;overflow: auto;}#sk-container-id-20 input.sk-toggleable__control:checked~label.sk-toggleable__label-arrow:before {content: \"▾\";}#sk-container-id-20 div.sk-estimator input.sk-toggleable__control:checked~label.sk-toggleable__label {background-color: #d4ebff;}#sk-container-id-20 div.sk-label input.sk-toggleable__control:checked~label.sk-toggleable__label {background-color: #d4ebff;}#sk-container-id-20 input.sk-hidden--visually {border: 0;clip: rect(1px 1px 1px 1px);clip: rect(1px, 1px, 1px, 1px);height: 1px;margin: -1px;overflow: hidden;padding: 0;position: absolute;width: 1px;}#sk-container-id-20 div.sk-estimator {font-family: monospace;background-color: #f0f8ff;border: 1px dotted black;border-radius: 0.25em;box-sizing: border-box;margin-bottom: 0.5em;}#sk-container-id-20 div.sk-estimator:hover {background-color: #d4ebff;}#sk-container-id-20 div.sk-parallel-item::after {content: \"\";width: 100%;border-bottom: 1px solid gray;flex-grow: 1;}#sk-container-id-20 div.sk-label:hover label.sk-toggleable__label {background-color: #d4ebff;}#sk-container-id-20 div.sk-serial::before {content: \"\";position: absolute;border-left: 1px solid gray;box-sizing: border-box;top: 0;bottom: 0;left: 50%;z-index: 0;}#sk-container-id-20 div.sk-serial {display: flex;flex-direction: column;align-items: center;background-color: white;padding-right: 0.2em;padding-left: 0.2em;position: relative;}#sk-container-id-20 div.sk-item {position: relative;z-index: 1;}#sk-container-id-20 div.sk-parallel {display: flex;align-items: stretch;justify-content: center;background-color: white;position: relative;}#sk-container-id-20 div.sk-item::before, #sk-container-id-20 div.sk-parallel-item::before {content: \"\";position: absolute;border-left: 1px solid gray;box-sizing: border-box;top: 0;bottom: 0;left: 50%;z-index: -1;}#sk-container-id-20 div.sk-parallel-item {display: flex;flex-direction: column;z-index: 1;position: relative;background-color: white;}#sk-container-id-20 div.sk-parallel-item:first-child::after {align-self: flex-end;width: 50%;}#sk-container-id-20 div.sk-parallel-item:last-child::after {align-self: flex-start;width: 50%;}#sk-container-id-20 div.sk-parallel-item:only-child::after {width: 0;}#sk-container-id-20 div.sk-dashed-wrapped {border: 1px dashed gray;margin: 0 0.4em 0.5em 0.4em;box-sizing: border-box;padding-bottom: 0.4em;background-color: white;}#sk-container-id-20 div.sk-label label {font-family: monospace;font-weight: bold;display: inline-block;line-height: 1.2em;}#sk-container-id-20 div.sk-label-container {text-align: center;}#sk-container-id-20 div.sk-container {/* jupyter's `normalize.less` sets `[hidden] { display: none; }` but bootstrap.min.css set `[hidden] { display: none !important; }` so we also need the `!important` here to be able to override the default hidden behavior on the sphinx rendered scikit-learn.org. See: https://github.com/scikit-learn/scikit-learn/issues/21755 */display: inline-block !important;position: relative;}#sk-container-id-20 div.sk-text-repr-fallback {display: none;}</style><div id=\"sk-container-id-20\" class=\"sk-top-container\"><div class=\"sk-text-repr-fallback\"><pre>RandomForestClassifier(n_estimators=200, random_state=0)</pre><b>In a Jupyter environment, please rerun this cell to show the HTML representation or trust the notebook. <br />On GitHub, the HTML representation is unable to render, please try loading this page with nbviewer.org.</b></div><div class=\"sk-container\" hidden><div class=\"sk-item\"><div class=\"sk-estimator sk-toggleable\"><input class=\"sk-toggleable__control sk-hidden--visually\" id=\"sk-estimator-id-20\" type=\"checkbox\" checked><label for=\"sk-estimator-id-20\" class=\"sk-toggleable__label sk-toggleable__label-arrow\">RandomForestClassifier</label><div class=\"sk-toggleable__content\"><pre>RandomForestClassifier(n_estimators=200, random_state=0)</pre></div></div></div></div></div>"
            ]
          },
          "metadata": {},
          "execution_count": 151
        }
      ]
    },
    {
      "cell_type": "code",
      "source": [
        "predictions = text_classifier.predict(X_train)\n",
        "\n",
        "print(confusion_matrix(y_train,predictions))\n",
        "print('accuracy score',accuracy_score(y_train, predictions))"
      ],
      "metadata": {
        "colab": {
          "base_uri": "https://localhost:8080/"
        },
        "id": "QIDreH9pN1G8",
        "outputId": "2a707f79-9957-498c-cdfa-14d4987c0d25"
      },
      "execution_count": null,
      "outputs": [
        {
          "output_type": "stream",
          "name": "stdout",
          "text": [
            "[[ 489    0    0]\n",
            " [   0 1243    0]\n",
            " [   0    0  190]]\n",
            "accuracy score 1.0\n"
          ]
        }
      ]
    },
    {
      "cell_type": "code",
      "source": [
        "predictions = text_classifier.predict(X_val)\n",
        "\n",
        "print(confusion_matrix(y_val,predictions))\n",
        "print('accuracy score',accuracy_score(y_val, predictions))"
      ],
      "metadata": {
        "colab": {
          "base_uri": "https://localhost:8080/"
        },
        "id": "Ty3dOWNeN6Ld",
        "outputId": "f116e1aa-501e-49b0-ec93-828e22e22e11"
      },
      "execution_count": null,
      "outputs": [
        {
          "output_type": "stream",
          "name": "stdout",
          "text": [
            "[[ 82  49   0]\n",
            " [ 15 280   1]\n",
            " [ 25  26   3]]\n",
            "accuracy score 0.7588357588357588\n"
          ]
        }
      ]
    },
    {
      "cell_type": "code",
      "source": [
        "# Multinomial Naive Bayes\n",
        "multinb_test_pred = multi_nb.predict(X_test)\n",
        "\n",
        "# Gradient Boosting Classifier\n",
        "gbm_test_pred = gbm.predict(X_test)\n",
        "\n",
        "# XGBoost\n",
        "# Transform test data for XGBoost\n",
        "target_test = y_test.astype('category').cat.codes\n",
        "d_test = xgb.DMatrix(X_test, label = target_test)\n",
        "xgboost_test_pred = bst.predict(d_test)\n",
        "\n",
        "# Neural Network predictions\n",
        "nn_test_pred = [np.argmax(pred) for pred in model.predict(X_test)]\n",
        "\n",
        "# Random Forest Predictions\n",
        "RD_test_pred = text_classifier.predict(X_test)"
      ],
      "metadata": {
        "colab": {
          "base_uri": "https://localhost:8080/"
        },
        "id": "9_CsPeigOChQ",
        "outputId": "6b7a4218-125d-4f1b-dab8-2bd6e27fe864"
      },
      "execution_count": null,
      "outputs": [
        {
          "output_type": "stream",
          "name": "stderr",
          "text": [
            "WARNING:tensorflow:6 out of the last 15 calls to <function Model.make_predict_function.<locals>.predict_function at 0x7fbae83408b0> triggered tf.function retracing. Tracing is expensive and the excessive number of tracings could be due to (1) creating @tf.function repeatedly in a loop, (2) passing tensors with different shapes, (3) passing Python objects instead of tensors. For (1), please define your @tf.function outside of the loop. For (2), @tf.function has reduce_retracing=True option that can avoid unnecessary retracing. For (3), please refer to https://www.tensorflow.org/guide/function#controlling_retracing and https://www.tensorflow.org/api_docs/python/tf/function for  more details.\n"
          ]
        },
        {
          "output_type": "stream",
          "name": "stdout",
          "text": [
            "2/2 [==============================] - 0s 3ms/step\n"
          ]
        }
      ]
    },
    {
      "cell_type": "code",
      "source": [
        "# Get accuracies\n",
        "print(f'Accuracy for Multinomial Naive Bayes: {round(accuracy_score(y_test, multinb_test_pred)*100, 4)}%')\n",
        "print(f'Accuracy for Gradient Boosting Classifier: {round(accuracy_score(y_test, gbm_test_pred)*100, 4)}%')\n",
        "print(f'Accuracy for XGBoost: {round(accuracy_score(target_test, xgboost_test_pred)*100, 4)}%')\n",
        "print(f'Accuracy for Neural Network: {round(accuracy_score(target_test, nn_test_pred)*100, 4)}%')\n",
        "print(f'Accuracy for Random Forest: {round(accuracy_score(y_test, RD_test_pred)*100, 4)}%')"
      ],
      "metadata": {
        "colab": {
          "base_uri": "https://localhost:8080/"
        },
        "id": "rmuNJCwyPBoQ",
        "outputId": "8b3e3b68-18b3-48b8-971a-11d63d4d0c2a"
      },
      "execution_count": null,
      "outputs": [
        {
          "output_type": "stream",
          "name": "stdout",
          "text": [
            "Accuracy for Multinomial Naive Bayes: 76.0%\n",
            "Accuracy for Gradient Boosting Classifier: 72.0%\n",
            "Accuracy for XGBoost: 76.0%\n",
            "Accuracy for Neural Network: 84.0%\n",
            "Accuracy for Random Forest: 76.0%\n"
          ]
        }
      ]
    },
    {
      "cell_type": "code",
      "source": [
        "# Save Neural Network model\n",
        "model.save('model.h5')"
      ],
      "metadata": {
        "id": "P57b_QsfPH8e"
      },
      "execution_count": null,
      "outputs": []
    },
    {
      "cell_type": "code",
      "source": [],
      "metadata": {
        "id": "_LCxbDNCQqwk"
      },
      "execution_count": null,
      "outputs": []
    }
  ]
}